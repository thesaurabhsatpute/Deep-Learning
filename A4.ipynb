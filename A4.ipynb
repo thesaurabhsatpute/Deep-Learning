{
 "cells": [
  {
   "cell_type": "markdown",
   "id": "e7ed2b6b",
   "metadata": {},
   "source": [
    "# Assignment No : 4\n",
    "\n",
    "## Problem Statement:\n",
    "Use Autoencoder to implement anomaly detection. Build the model by using:\n",
    "a. Import required libraries\n",
    "b. Upload / access the dataset\n",
    "c. Encoder converts it into latent representation\n",
    "d. Decoder networks convert it back to the original input\n",
    "e. Compile the models with Optimizer, Loss, and Evaluation Metrics\n",
    "\n",
    "## Objective:\n",
    "The objective of anomaly detection is to find unexpected or rare events in data streams\n",
    "\n",
    "## Methodology:\n",
    "1.Deep Learning\n",
    "2.TensorFlow\n",
    "\n",
    "## Required libraries:\n",
    "Pandas , Numpy , matplotlib , seaborn , Sklearn.\n",
    "\n",
    "## Theory:\n",
    "What is deep learning?\n",
    "Deep learning is a type of machine learning and artificial intelligence (AI) that imitates the way humans gain\n",
    "certain types of knowledge. Deep learning is an important element of data science, which includes statistics\n",
    "and predictive modeling. It is extremely beneficial to data scientists who are tasked with collecting, analyzing\n",
    "and interpreting large amounts of data; deep learning makes this process faster and easier.\n",
    "What is anomaly detection?\n",
    "Anomaly detection is a mathematical process used by data scientists to detect abnormalities within supervised\n",
    "and unsupervised numerical data based on how different a data point is from its surrounding data points or from\n",
    "the standard deviation. There are many different anomaly detection techniques, sometimes called outlier\n",
    "detection algorithms, that each have different criteria for outlier detection and are therefore used for different\n",
    "use cases. Anomaly detection is used across all the major data science technologies such as, Python and\n",
    "Scikit-learn (SKlearn). All forms of anomaly detection rely on first building an understanding of standard results,\n",
    "or normal instances, using time series data. Time series data is essentially a collection of values of the same\n",
    "variable over a period of time. This does not typically mean constant or the same but rather changing in an\n",
    "expected way. Each technique uses different estimator criteria to form the benchmark.\n",
    "We need to create a single fully-connected neural layer as encoder and as decoder model, compile the models\n",
    "with Optimizer, Loss and Evaluation Metrics. The loss function is usually either the mean- squared error or\n",
    "cross-entropy between the output and the input, which we call ‘Reconstruction Loss’. It penalizes the network\n",
    "for creating outputs different from the input. Then, we need to fit our model with the test data.\n",
    "STEPS TO CREATE A SIMPLE AUTOENCODER\n",
    "We will build a simple single fully-connected neural layer as encoder and as decoder to read a number present\n",
    "in the image\n",
    "\n",
    "-Let’s define the size of the Encoded representation.\n",
    "-encoding_dim=32 #Assuming the input size= 100000\n",
    "-encoded=Dense(encoding_dim, activation=’relu’)(input_img) ”encoded” is the encoded representation of the\n",
    "input\n",
    "-decoded=Dense(activation=’sigmoid’)(encoded) # ‘decoded’ is the lossy reconstruction of the input\n",
    "-autoencoder=model(input_img, decoded) #this model maps an input to its reconstruction\n",
    "-Lets create a separate encoder model\n",
    "-encoder=model(input_img, encoded) #this model maps an input to its encoded representation\n",
    "-encoded_input=Input (shape=(encoding_dim,)) # create a placeholder for an encoded (32-dimensional) input\n",
    "-decoded_layer=autoencoder.layers[-1] #retrieve the last layer of the autoencoder model\n",
    "-decoder=model(encoded_input, decoder_layer(encoded_input)) create the decoder model\n",
    "-Now, lets train our autoencoder to reconstruct the digits\n",
    "-autoencoder.compile(optimizer=’ada’, loss=’mae’)\n",
    "-Prepare train data: x_train and test data: x_test\n",
    "-autoencoder.fit(x_train,x_train, epochs=20, shuffle=True, validation_data=(x_test, x_test))\n",
    "-encoded_img=encoder.predict(x_test)\n",
    "-decoded_img=decoded.predict(encoded_img)"
   ]
  },
  {
   "cell_type": "markdown",
   "id": "222d9ef7",
   "metadata": {},
   "source": [
    "# Code and Output -"
   ]
  },
  {
   "cell_type": "code",
   "execution_count": 1,
   "id": "10ddbb3f",
   "metadata": {},
   "outputs": [],
   "source": [
    "# Synthetic dataset\n",
    "from sklearn.datasets import make_classification\n",
    "\n",
    "# Data processing\n",
    "import pandas as pd\n",
    "import numpy as np\n",
    "from collections import Counter\n",
    "\n",
    "# Visualization\n",
    "import matplotlib.pyplot as plt\n",
    "import seaborn as sns\n",
    "\n",
    "# Model and performance\n",
    "#!pip install tensorflow\n",
    "import tensorflow as tf\n",
    "from tensorflow.keras import layers, losses\n",
    "from sklearn.model_selection import train_test_split\n",
    "from sklearn.metrics import classification_report"
   ]
  },
  {
   "cell_type": "code",
   "execution_count": 2,
   "id": "02312a71",
   "metadata": {},
   "outputs": [],
   "source": [
    "# Create an imbalanced dataset\n",
    "X, y = make_classification(n_samples=100000, n_features=32, n_informative=32,\n",
    "n_redundant=0, n_repeated=0, n_classes=2,\n",
    "n_clusters_per_class=1,\n",
    "weights=[0.995, 0.005],\n",
    "class_sep=0.5, random_state=0)"
   ]
  },
  {
   "cell_type": "code",
   "execution_count": 5,
   "id": "de435957",
   "metadata": {},
   "outputs": [
    {
     "name": "stdout",
     "output_type": "stream",
     "text": [
      "The number of records in the training dataset is 80000\n",
      "The number of records in the test dataset is 20000\n",
      "The training dataset has 79200 records for the majority class and 800 records for the minority class.\n"
     ]
    }
   ],
   "source": [
    "# Train test split\n",
    "X_train, X_test, y_train, y_test = train_test_split(X, y, test_size=0.2, random_state=42)\n",
    "# Check the number of records\n",
    "print('The number of records in the training dataset is', X_train.shape[0])\n",
    "print('The number of records in the test dataset is', X_test.shape[0])\n",
    "print(f\"The training dataset has {sorted(Counter(y_train).items())[0][1]} records for the majority class and {sorted(Counter(y_train).items())[1][1]} records for the minority class.\")"
   ]
  },
  {
   "cell_type": "code",
   "execution_count": 6,
   "id": "d7901fea",
   "metadata": {},
   "outputs": [],
   "source": [
    "# Keep only the normal data for the training dataset\n",
    "X_train_normal = X_train[np.where(y_train == 0)]\n",
    "# Input layer\n",
    "input = tf.keras.layers.Input(shape=(32,))\n",
    "# Encoder layers\n",
    "encoder = tf.keras.Sequential([\n",
    "layers.Dense(16, activation='relu'),\n",
    "layers.Dense(8, activation='relu'),\n",
    "layers.Dense(4, activation='relu')])(input)\n",
    "# Decoder layers\n",
    "decoder = tf.keras.Sequential([\n",
    "layers.Dense(8, activation=\"relu\"),\n",
    "layers.Dense(16, activation=\"relu\"),\n",
    "layers.Dense(32, activation=\"sigmoid\")])(encoder)\n",
    "# Create the autoencoder\n",
    "autoencoder = tf.keras.Model(inputs=input, outputs=decoder)"
   ]
  },
  {
   "cell_type": "code",
   "execution_count": 7,
   "id": "96156f99",
   "metadata": {},
   "outputs": [
    {
     "name": "stdout",
     "output_type": "stream",
     "text": [
      "Epoch 1/20\n",
      "1238/1238 [==============================] - 8s 4ms/step - loss: 2.5244 - val_loss: 2.4908\n",
      "Epoch 2/20\n",
      "1238/1238 [==============================] - 5s 4ms/step - loss: 2.4792 - val_loss: 2.4783\n",
      "Epoch 3/20\n",
      "1238/1238 [==============================] - 5s 4ms/step - loss: 2.4721 - val_loss: 2.4742\n",
      "Epoch 4/20\n",
      "1238/1238 [==============================] - 5s 4ms/step - loss: 2.4690 - val_loss: 2.4711\n",
      "Epoch 5/20\n",
      "1238/1238 [==============================] - 5s 4ms/step - loss: 2.4672 - val_loss: 2.4704\n",
      "Epoch 6/20\n",
      "1238/1238 [==============================] - 5s 4ms/step - loss: 2.4657 - val_loss: 2.4691\n",
      "Epoch 7/20\n",
      "1238/1238 [==============================] - 5s 4ms/step - loss: 2.4644 - val_loss: 2.4681\n",
      "Epoch 8/20\n",
      "1238/1238 [==============================] - 5s 4ms/step - loss: 2.4632 - val_loss: 2.4662\n",
      "Epoch 9/20\n",
      "1238/1238 [==============================] - 5s 4ms/step - loss: 2.4622 - val_loss: 2.4652\n",
      "Epoch 10/20\n",
      "1238/1238 [==============================] - 5s 4ms/step - loss: 2.4612 - val_loss: 2.4645\n",
      "Epoch 11/20\n",
      "1238/1238 [==============================] - 5s 4ms/step - loss: 2.4602 - val_loss: 2.4635\n",
      "Epoch 12/20\n",
      "1238/1238 [==============================] - 5s 4ms/step - loss: 2.4594 - val_loss: 2.4635\n",
      "Epoch 13/20\n",
      "1238/1238 [==============================] - 5s 4ms/step - loss: 2.4586 - val_loss: 2.4621\n",
      "Epoch 14/20\n",
      "1238/1238 [==============================] - 5s 4ms/step - loss: 2.4578 - val_loss: 2.4624\n",
      "Epoch 15/20\n",
      "1238/1238 [==============================] - 5s 4ms/step - loss: 2.4573 - val_loss: 2.4610\n",
      "Epoch 16/20\n",
      "1238/1238 [==============================] - 5s 4ms/step - loss: 2.4566 - val_loss: 2.4602\n",
      "Epoch 17/20\n",
      "1238/1238 [==============================] - 5s 4ms/step - loss: 2.4561 - val_loss: 2.4607\n",
      "Epoch 18/20\n",
      "1238/1238 [==============================] - 5s 4ms/step - loss: 2.4557 - val_loss: 2.4603\n",
      "Epoch 19/20\n",
      "1238/1238 [==============================] - 6s 5ms/step - loss: 2.4552 - val_loss: 2.4594\n",
      "Epoch 20/20\n",
      "1238/1238 [==============================] - 5s 4ms/step - loss: 2.4547 - val_loss: 2.4586\n"
     ]
    }
   ],
   "source": [
    "# Compile the autoencoder\n",
    "autoencoder.compile(optimizer='adam', loss='mae')\n",
    "# Fit the autoencoder\n",
    "history = autoencoder.fit(X_train_normal, X_train_normal,\n",
    "epochs=20,\n",
    "batch_size=64,\n",
    "validation_data=(X_test, X_test),\n",
    "shuffle=True)"
   ]
  },
  {
   "cell_type": "code",
   "execution_count": 8,
   "id": "ca329547",
   "metadata": {},
   "outputs": [
    {
     "data": {
      "image/png": "[encoded data removed]",
      "text/plain": [
       "<Figure size 432x288 with 1 Axes>"
      ]
     },
     "metadata": {
      "needs_background": "light"
     },
     "output_type": "display_data"
    }
   ],
   "source": [
    "plt.plot(history.history[\"loss\"], label=\"Training Loss\")\n",
    "plt.plot(history.history[\"val_loss\"] , label=\"Validation Loss\")\n",
    "plt.legend();"
   ]
  },
  {
   "cell_type": "code",
   "execution_count": 9,
   "id": "7e99dd8a",
   "metadata": {},
   "outputs": [
    {
     "name": "stdout",
     "output_type": "stream",
     "text": [
      "625/625 [==============================] - 3s 3ms/step\n"
     ]
    }
   ],
   "source": [
    "# Predict anomalies/outliers in the training dataset\n",
    "prediction = autoencoder.predict(X_test)"
   ]
  },
  {
   "cell_type": "code",
   "execution_count": 10,
   "id": "98d6b7ae",
   "metadata": {},
   "outputs": [],
   "source": [
    "# Get the mean absolute error between actual and reconstruction/prediction\n",
    "prediction_loss = tf.keras.losses.mae(prediction, X_test)"
   ]
  },
  {
   "cell_type": "code",
   "execution_count": 11,
   "id": "67d12376",
   "metadata": {},
   "outputs": [
    {
     "name": "stdout",
     "output_type": "stream",
     "text": [
      "The prediction loss threshold for 2% of outliers is 3.45\n"
     ]
    }
   ],
   "source": [
    "# Check the prediction loss threshold for 2% of outliers\n",
    "loss_threshold = np.percentile(prediction_loss, 98)\n",
    "print(f'The prediction loss threshold for 2% of outliers is {loss_threshold:.2f}')"
   ]
  },
  {
   "cell_type": "code",
   "execution_count": 12,
   "id": "56a97488",
   "metadata": {},
   "outputs": [
    {
     "data": {
      "text/plain": [
       "<matplotlib.lines.Line2D at 0x1b5d2985940>"
      ]
     },
     "execution_count": 12,
     "metadata": {},
     "output_type": "execute_result"
    },
    {
     "data": {
      "image/png": "[encoded data removed]",
      "text/plain": [
       "<Figure size 432x288 with 1 Axes>"
      ]
     },
     "metadata": {
      "needs_background": "light"
     },
     "output_type": "display_data"
    }
   ],
   "source": [
    "# Visualize the threshold\n",
    "sns.histplot(prediction_loss, bins=30, alpha=0.8)\n",
    "plt.axvline(x=loss_threshold, color='orange')"
   ]
  },
  {
   "cell_type": "code",
   "execution_count": 13,
   "id": "3d76a374",
   "metadata": {},
   "outputs": [
    {
     "name": "stdout",
     "output_type": "stream",
     "text": [
      "              precision    recall  f1-score   support\n",
      "\n",
      "           0       0.99      0.98      0.98     19803\n",
      "           1       0.00      0.01      0.00       197\n",
      "\n",
      "    accuracy                           0.97     20000\n",
      "   macro avg       0.50      0.49      0.49     20000\n",
      "weighted avg       0.98      0.97      0.98     20000\n",
      "\n"
     ]
    }
   ],
   "source": [
    "# Check the model performance at 2% threshold\n",
    "threshold_prediction = [0 if i < loss_threshold else 1 for i in prediction_loss]\n",
    "# Check the prediction performance\n",
    "print(classification_report(y_test, threshold_prediction))"
   ]
  }
 ],
 "metadata": {
  "kernelspec": {
   "display_name": "Python 3 (ipykernel)",
   "language": "python",
   "name": "python3"
  },
  "language_info": {
   "codemirror_mode": {
    "name": "ipython",
    "version": 3
   },
   "file_extension": ".py",
   "mimetype": "text/x-python",
   "name": "python",
   "nbconvert_exporter": "python",
   "pygments_lexer": "ipython3",
   "version": "3.9.7"
  }
 },
 "nbformat": 4,
 "nbformat_minor": 5
}
